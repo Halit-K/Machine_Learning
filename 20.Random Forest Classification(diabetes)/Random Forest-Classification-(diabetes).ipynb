{
 "cells": [
  {
   "cell_type": "markdown",
   "metadata": {},
   "source": [
    "# Random Forest - Classification"
   ]
  },
  {
   "cell_type": "code",
   "execution_count": 1,
   "metadata": {},
   "outputs": [],
   "source": [
    "import numpy as np\n",
    "import pandas as pd\n",
    "import seaborn as sns\n",
    "import matplotlib.pyplot as plt\n",
    "\n",
    "%matplotlib inline\n",
    "#%matplotlib notebook\n",
    "plt.rcParams[\"figure.figsize\"] = (10,6)\n",
    "import warnings\n",
    "warnings.filterwarnings(\"ignore\")\n",
    "warnings.warn(\"this will not show\")\n",
    "pd.set_option('display.float_format', lambda x: '%.3f' % x)"
   ]
  },
  {
   "cell_type": "markdown",
   "metadata": {},
   "source": [
    "## Understanding of HyperParameters with diabetes dataset"
   ]
  },
  {
   "cell_type": "code",
   "execution_count": 2,
   "metadata": {},
   "outputs": [],
   "source": [
    "df = pd.read_csv(\"diabetes.csv\")"
   ]
  },
  {
   "cell_type": "code",
   "execution_count": 3,
   "metadata": {},
   "outputs": [
    {
     "data": {
      "text/html": [
       "<div>\n",
       "<style scoped>\n",
       "    .dataframe tbody tr th:only-of-type {\n",
       "        vertical-align: middle;\n",
       "    }\n",
       "\n",
       "    .dataframe tbody tr th {\n",
       "        vertical-align: top;\n",
       "    }\n",
       "\n",
       "    .dataframe thead th {\n",
       "        text-align: right;\n",
       "    }\n",
       "</style>\n",
       "<table border=\"1\" class=\"dataframe\">\n",
       "  <thead>\n",
       "    <tr style=\"text-align: right;\">\n",
       "      <th></th>\n",
       "      <th>Pregnancies</th>\n",
       "      <th>Glucose</th>\n",
       "      <th>BloodPressure</th>\n",
       "      <th>SkinThickness</th>\n",
       "      <th>Insulin</th>\n",
       "      <th>BMI</th>\n",
       "      <th>DiabetesPedigreeFunction</th>\n",
       "      <th>Age</th>\n",
       "      <th>Outcome</th>\n",
       "    </tr>\n",
       "  </thead>\n",
       "  <tbody>\n",
       "    <tr>\n",
       "      <th>0</th>\n",
       "      <td>6</td>\n",
       "      <td>148</td>\n",
       "      <td>72</td>\n",
       "      <td>35</td>\n",
       "      <td>0</td>\n",
       "      <td>33.600</td>\n",
       "      <td>0.627</td>\n",
       "      <td>50</td>\n",
       "      <td>1</td>\n",
       "    </tr>\n",
       "    <tr>\n",
       "      <th>1</th>\n",
       "      <td>1</td>\n",
       "      <td>85</td>\n",
       "      <td>66</td>\n",
       "      <td>29</td>\n",
       "      <td>0</td>\n",
       "      <td>26.600</td>\n",
       "      <td>0.351</td>\n",
       "      <td>31</td>\n",
       "      <td>0</td>\n",
       "    </tr>\n",
       "    <tr>\n",
       "      <th>2</th>\n",
       "      <td>8</td>\n",
       "      <td>183</td>\n",
       "      <td>64</td>\n",
       "      <td>0</td>\n",
       "      <td>0</td>\n",
       "      <td>23.300</td>\n",
       "      <td>0.672</td>\n",
       "      <td>32</td>\n",
       "      <td>1</td>\n",
       "    </tr>\n",
       "    <tr>\n",
       "      <th>3</th>\n",
       "      <td>1</td>\n",
       "      <td>89</td>\n",
       "      <td>66</td>\n",
       "      <td>23</td>\n",
       "      <td>94</td>\n",
       "      <td>28.100</td>\n",
       "      <td>0.167</td>\n",
       "      <td>21</td>\n",
       "      <td>0</td>\n",
       "    </tr>\n",
       "    <tr>\n",
       "      <th>4</th>\n",
       "      <td>0</td>\n",
       "      <td>137</td>\n",
       "      <td>40</td>\n",
       "      <td>35</td>\n",
       "      <td>168</td>\n",
       "      <td>43.100</td>\n",
       "      <td>2.288</td>\n",
       "      <td>33</td>\n",
       "      <td>1</td>\n",
       "    </tr>\n",
       "  </tbody>\n",
       "</table>\n",
       "</div>"
      ],
      "text/plain": [
       "   Pregnancies  Glucose  BloodPressure  SkinThickness  Insulin    BMI  \\\n",
       "0            6      148             72             35        0 33.600   \n",
       "1            1       85             66             29        0 26.600   \n",
       "2            8      183             64              0        0 23.300   \n",
       "3            1       89             66             23       94 28.100   \n",
       "4            0      137             40             35      168 43.100   \n",
       "\n",
       "   DiabetesPedigreeFunction  Age  Outcome  \n",
       "0                     0.627   50        1  \n",
       "1                     0.351   31        0  \n",
       "2                     0.672   32        1  \n",
       "3                     0.167   21        0  \n",
       "4                     2.288   33        1  "
      ]
     },
     "execution_count": 3,
     "metadata": {},
     "output_type": "execute_result"
    }
   ],
   "source": [
    "df.head()"
   ]
  },
  {
   "cell_type": "code",
   "execution_count": 4,
   "metadata": {},
   "outputs": [
    {
     "name": "stdout",
     "output_type": "stream",
     "text": [
      "<class 'pandas.core.frame.DataFrame'>\n",
      "RangeIndex: 768 entries, 0 to 767\n",
      "Data columns (total 9 columns):\n",
      " #   Column                    Non-Null Count  Dtype  \n",
      "---  ------                    --------------  -----  \n",
      " 0   Pregnancies               768 non-null    int64  \n",
      " 1   Glucose                   768 non-null    int64  \n",
      " 2   BloodPressure             768 non-null    int64  \n",
      " 3   SkinThickness             768 non-null    int64  \n",
      " 4   Insulin                   768 non-null    int64  \n",
      " 5   BMI                       768 non-null    float64\n",
      " 6   DiabetesPedigreeFunction  768 non-null    float64\n",
      " 7   Age                       768 non-null    int64  \n",
      " 8   Outcome                   768 non-null    int64  \n",
      "dtypes: float64(2), int64(7)\n",
      "memory usage: 54.1 KB\n"
     ]
    }
   ],
   "source": [
    "df.info()"
   ]
  },
  {
   "cell_type": "code",
   "execution_count": 5,
   "metadata": {},
   "outputs": [
    {
     "data": {
      "text/plain": [
       "0    500\n",
       "1    268\n",
       "Name: Outcome, dtype: int64"
      ]
     },
     "execution_count": 5,
     "metadata": {},
     "output_type": "execute_result"
    }
   ],
   "source": [
    "df.Outcome.value_counts()"
   ]
  },
  {
   "cell_type": "markdown",
   "metadata": {},
   "source": [
    "## Train | Test Split and Scalling"
   ]
  },
  {
   "cell_type": "code",
   "execution_count": 6,
   "metadata": {},
   "outputs": [],
   "source": [
    "X = df.drop(\"Outcome\",axis=1)\n",
    "y = df[\"Outcome\"]"
   ]
  },
  {
   "cell_type": "code",
   "execution_count": 7,
   "metadata": {},
   "outputs": [],
   "source": [
    "from sklearn.model_selection import train_test_split"
   ]
  },
  {
   "cell_type": "code",
   "execution_count": 8,
   "metadata": {},
   "outputs": [],
   "source": [
    "X_train, X_test, y_train, y_test = train_test_split(X, y, test_size=0.25, random_state=101)"
   ]
  },
  {
   "cell_type": "code",
   "execution_count": 9,
   "metadata": {},
   "outputs": [],
   "source": [
    "from sklearn.preprocessing import StandardScaler"
   ]
  },
  {
   "cell_type": "code",
   "execution_count": 10,
   "metadata": {},
   "outputs": [],
   "source": [
    "scaler = StandardScaler()"
   ]
  },
  {
   "cell_type": "code",
   "execution_count": 11,
   "metadata": {},
   "outputs": [],
   "source": [
    "X_train_scaled = scaler.fit_transform(X_train)\n",
    "X_test_scaled = scaler.transform(X_test)"
   ]
  },
  {
   "cell_type": "markdown",
   "metadata": {},
   "source": [
    "## Modelling and Model Performance"
   ]
  },
  {
   "cell_type": "code",
   "execution_count": 17,
   "metadata": {},
   "outputs": [],
   "source": [
    "def train_val(y_train, y_train_pred, y_test, y_pred):\n",
    "    \n",
    "    scores = {\"train_set\": {\"Accuracy\" : accuracy_score(y_train, y_train_pred),\n",
    "                            \"Precision\" : precision_score(y_train, y_train_pred),\n",
    "                            \"Recall\" : recall_score(y_train, y_train_pred),                          \n",
    "                            \"f1\" : f1_score(y_train, y_train_pred)},\n",
    "    \n",
    "              \"test_set\": {\"Accuracy\" : accuracy_score(y_test, y_pred),\n",
    "                           \"Precision\" : precision_score(y_test, y_pred),\n",
    "                           \"Recall\" : recall_score(y_test, y_pred),                          \n",
    "                           \"f1\" : f1_score(y_test, y_pred)}}\n",
    "    \n",
    "    return pd.DataFrame(scores)"
   ]
  },
  {
   "cell_type": "markdown",
   "metadata": {},
   "source": [
    "### Decision Tree"
   ]
  },
  {
   "cell_type": "code",
   "execution_count": 18,
   "metadata": {},
   "outputs": [],
   "source": [
    "from sklearn.tree import DecisionTreeClassifier\n",
    "from sklearn.metrics import confusion_matrix, classification_report, accuracy_score, recall_score, precision_score, f1_score\n",
    "from sklearn.model_selection import cross_val_score, cross_validate\n",
    "from sklearn.model_selection import GridSearchCV"
   ]
  },
  {
   "cell_type": "code",
   "execution_count": 19,
   "metadata": {},
   "outputs": [
    {
     "name": "stdout",
     "output_type": "stream",
     "text": [
      "[[92 32]\n",
      " [21 47]]\n",
      "              precision    recall  f1-score   support\n",
      "\n",
      "           0       0.81      0.74      0.78       124\n",
      "           1       0.59      0.69      0.64        68\n",
      "\n",
      "    accuracy                           0.72       192\n",
      "   macro avg       0.70      0.72      0.71       192\n",
      "weighted avg       0.74      0.72      0.73       192\n",
      "\n"
     ]
    },
    {
     "data": {
      "text/html": [
       "<div>\n",
       "<style scoped>\n",
       "    .dataframe tbody tr th:only-of-type {\n",
       "        vertical-align: middle;\n",
       "    }\n",
       "\n",
       "    .dataframe tbody tr th {\n",
       "        vertical-align: top;\n",
       "    }\n",
       "\n",
       "    .dataframe thead th {\n",
       "        text-align: right;\n",
       "    }\n",
       "</style>\n",
       "<table border=\"1\" class=\"dataframe\">\n",
       "  <thead>\n",
       "    <tr style=\"text-align: right;\">\n",
       "      <th></th>\n",
       "      <th>train_set</th>\n",
       "      <th>test_set</th>\n",
       "    </tr>\n",
       "  </thead>\n",
       "  <tbody>\n",
       "    <tr>\n",
       "      <th>Accuracy</th>\n",
       "      <td>1.000</td>\n",
       "      <td>0.724</td>\n",
       "    </tr>\n",
       "    <tr>\n",
       "      <th>Precision</th>\n",
       "      <td>1.000</td>\n",
       "      <td>0.595</td>\n",
       "    </tr>\n",
       "    <tr>\n",
       "      <th>Recall</th>\n",
       "      <td>1.000</td>\n",
       "      <td>0.691</td>\n",
       "    </tr>\n",
       "    <tr>\n",
       "      <th>f1</th>\n",
       "      <td>1.000</td>\n",
       "      <td>0.639</td>\n",
       "    </tr>\n",
       "  </tbody>\n",
       "</table>\n",
       "</div>"
      ],
      "text/plain": [
       "           train_set  test_set\n",
       "Accuracy       1.000     0.724\n",
       "Precision      1.000     0.595\n",
       "Recall         1.000     0.691\n",
       "f1             1.000     0.639"
      ]
     },
     "execution_count": 19,
     "metadata": {},
     "output_type": "execute_result"
    }
   ],
   "source": [
    "dt_model = DecisionTreeClassifier(class_weight = \"balanced\", random_state=101)\n",
    "dt_model.fit(X_train, y_train)\n",
    "y_pred = dt_model.predict(X_test)\n",
    "y_train_pred = dt_model.predict(X_train)\n",
    "dt_acc = accuracy_score(y_test, y_pred)\n",
    "dt_recall = recall_score(y_test, y_pred)\n",
    "print(confusion_matrix(y_test, y_pred))\n",
    "print(classification_report(y_test, y_pred))\n",
    "train_val(y_train, y_train_pred, y_test, y_pred)"
   ]
  },
  {
   "cell_type": "code",
   "execution_count": 20,
   "metadata": {},
   "outputs": [
    {
     "name": "stdout",
     "output_type": "stream",
     "text": [
      "    fit_time  score_time  test_accuracy  test_precision  test_recall  test_f1\n",
      "1      0.005       0.006          0.724           0.583        0.700    0.636\n",
      "2      0.006       0.006          0.603           0.440        0.550    0.489\n",
      "3      0.005       0.006          0.672           0.529        0.450    0.486\n",
      "4      0.005       0.009          0.655           0.500        0.600    0.545\n",
      "5      0.006       0.010          0.741           0.667        0.500    0.571\n",
      "6      0.005       0.009          0.759           0.688        0.550    0.611\n",
      "7      0.005       0.008          0.737           0.647        0.550    0.595\n",
      "8      0.004       0.009          0.544           0.364        0.400    0.381\n",
      "9      0.004       0.000          0.649           0.500        0.550    0.524\n",
      "10     0.000       0.000          0.719           0.611        0.550    0.579\n",
      "--------------------\n",
      "test_accuracy    0.680\n",
      "test_precision   0.553\n",
      "test_recall      0.540\n",
      "test_f1          0.542\n",
      "dtype: float64\n"
     ]
    }
   ],
   "source": [
    "model = DecisionTreeClassifier(class_weight = \"balanced\", random_state=101)\n",
    "\n",
    "scores = cross_validate(model, X_train, y_train, scoring = ['accuracy', 'precision', 'recall', 'f1'], cv = 10)\n",
    "df_scores = pd.DataFrame(scores, index = range(1, 11))\n",
    "print(df_scores)\n",
    "print(\"--------------------\")\n",
    "print(df_scores.mean()[2:])"
   ]
  },
  {
   "cell_type": "code",
   "execution_count": 21,
   "metadata": {},
   "outputs": [],
   "source": [
    "param_grid = {\"splitter\":[\"best\", \"random\"],\n",
    "              \"max_features\":[None, 3, 5, 7],\n",
    "              \"max_depth\": [None, 4, 5, 6, 7, 8, 9, 10],\n",
    "              \"min_samples_leaf\": [1, 2, 3, 5],\n",
    "              \"min_samples_split\": [2, 3, 5, 7, 9, 15]}"
   ]
  },
  {
   "cell_type": "code",
   "execution_count": 22,
   "metadata": {},
   "outputs": [
    {
     "name": "stdout",
     "output_type": "stream",
     "text": [
      "Fitting 5 folds for each of 1536 candidates, totalling 7680 fits\n"
     ]
    }
   ],
   "source": [
    "model = DecisionTreeClassifier(class_weight = \"balanced\", random_state=101)\n",
    "dt_grid_model = GridSearchCV(estimator=model,\n",
    "                            param_grid=param_grid,\n",
    "                            scoring='recall',\n",
    "                            n_jobs = -1, verbose = 2).fit(X_train, y_train)"
   ]
  },
  {
   "cell_type": "code",
   "execution_count": 23,
   "metadata": {},
   "outputs": [
    {
     "data": {
      "text/plain": [
       "{'max_depth': 5,\n",
       " 'max_features': 3,\n",
       " 'min_samples_leaf': 2,\n",
       " 'min_samples_split': 9,\n",
       " 'splitter': 'random'}"
      ]
     },
     "execution_count": 23,
     "metadata": {},
     "output_type": "execute_result"
    }
   ],
   "source": [
    "dt_grid_model.best_params_"
   ]
  },
  {
   "cell_type": "code",
   "execution_count": 24,
   "metadata": {},
   "outputs": [
    {
     "name": "stdout",
     "output_type": "stream",
     "text": [
      "[[50 74]\n",
      " [10 58]]\n",
      "              precision    recall  f1-score   support\n",
      "\n",
      "           0       0.83      0.40      0.54       124\n",
      "           1       0.44      0.85      0.58        68\n",
      "\n",
      "    accuracy                           0.56       192\n",
      "   macro avg       0.64      0.63      0.56       192\n",
      "weighted avg       0.69      0.56      0.56       192\n",
      "\n"
     ]
    },
    {
     "data": {
      "text/html": [
       "<div>\n",
       "<style scoped>\n",
       "    .dataframe tbody tr th:only-of-type {\n",
       "        vertical-align: middle;\n",
       "    }\n",
       "\n",
       "    .dataframe tbody tr th {\n",
       "        vertical-align: top;\n",
       "    }\n",
       "\n",
       "    .dataframe thead th {\n",
       "        text-align: right;\n",
       "    }\n",
       "</style>\n",
       "<table border=\"1\" class=\"dataframe\">\n",
       "  <thead>\n",
       "    <tr style=\"text-align: right;\">\n",
       "      <th></th>\n",
       "      <th>train_set</th>\n",
       "      <th>test_set</th>\n",
       "    </tr>\n",
       "  </thead>\n",
       "  <tbody>\n",
       "    <tr>\n",
       "      <th>Accuracy</th>\n",
       "      <td>0.590</td>\n",
       "      <td>0.562</td>\n",
       "    </tr>\n",
       "    <tr>\n",
       "      <th>Precision</th>\n",
       "      <td>0.455</td>\n",
       "      <td>0.439</td>\n",
       "    </tr>\n",
       "    <tr>\n",
       "      <th>Recall</th>\n",
       "      <td>0.905</td>\n",
       "      <td>0.853</td>\n",
       "    </tr>\n",
       "    <tr>\n",
       "      <th>f1</th>\n",
       "      <td>0.605</td>\n",
       "      <td>0.580</td>\n",
       "    </tr>\n",
       "  </tbody>\n",
       "</table>\n",
       "</div>"
      ],
      "text/plain": [
       "           train_set  test_set\n",
       "Accuracy       0.590     0.562\n",
       "Precision      0.455     0.439\n",
       "Recall         0.905     0.853\n",
       "f1             0.605     0.580"
      ]
     },
     "execution_count": 24,
     "metadata": {},
     "output_type": "execute_result"
    }
   ],
   "source": [
    "y_pred = dt_grid_model.predict(X_test)\n",
    "y_train_pred = dt_grid_model.predict(X_train)\n",
    "dt_tuned_acc = accuracy_score(y_test, y_pred)\n",
    "dt_tuned_recall = recall_score(y_test, y_pred)\n",
    "print(confusion_matrix(y_test, y_pred))\n",
    "print(classification_report(y_test, y_pred))\n",
    "train_val(y_train, y_train_pred, y_test, y_pred)"
   ]
  },
  {
   "cell_type": "code",
   "execution_count": 25,
   "metadata": {},
   "outputs": [
    {
     "name": "stdout",
     "output_type": "stream",
     "text": [
      "[[82 42]\n",
      " [11 57]]\n",
      "              precision    recall  f1-score   support\n",
      "\n",
      "           0       0.88      0.66      0.76       124\n",
      "           1       0.58      0.84      0.68        68\n",
      "\n",
      "    accuracy                           0.72       192\n",
      "   macro avg       0.73      0.75      0.72       192\n",
      "weighted avg       0.77      0.72      0.73       192\n",
      "\n"
     ]
    },
    {
     "data": {
      "text/html": [
       "<div>\n",
       "<style scoped>\n",
       "    .dataframe tbody tr th:only-of-type {\n",
       "        vertical-align: middle;\n",
       "    }\n",
       "\n",
       "    .dataframe tbody tr th {\n",
       "        vertical-align: top;\n",
       "    }\n",
       "\n",
       "    .dataframe thead th {\n",
       "        text-align: right;\n",
       "    }\n",
       "</style>\n",
       "<table border=\"1\" class=\"dataframe\">\n",
       "  <thead>\n",
       "    <tr style=\"text-align: right;\">\n",
       "      <th></th>\n",
       "      <th>train_set</th>\n",
       "      <th>test_set</th>\n",
       "    </tr>\n",
       "  </thead>\n",
       "  <tbody>\n",
       "    <tr>\n",
       "      <th>Accuracy</th>\n",
       "      <td>0.590</td>\n",
       "      <td>0.724</td>\n",
       "    </tr>\n",
       "    <tr>\n",
       "      <th>Precision</th>\n",
       "      <td>0.455</td>\n",
       "      <td>0.576</td>\n",
       "    </tr>\n",
       "    <tr>\n",
       "      <th>Recall</th>\n",
       "      <td>0.905</td>\n",
       "      <td>0.838</td>\n",
       "    </tr>\n",
       "    <tr>\n",
       "      <th>f1</th>\n",
       "      <td>0.605</td>\n",
       "      <td>0.683</td>\n",
       "    </tr>\n",
       "  </tbody>\n",
       "</table>\n",
       "</div>"
      ],
      "text/plain": [
       "           train_set  test_set\n",
       "Accuracy       0.590     0.724\n",
       "Precision      0.455     0.576\n",
       "Recall         0.905     0.838\n",
       "f1             0.605     0.683"
      ]
     },
     "execution_count": 25,
     "metadata": {},
     "output_type": "execute_result"
    }
   ],
   "source": [
    "dt_model = DecisionTreeClassifier(class_weight = \"balanced\", random_state=101,\n",
    "                                  max_depth = 5,\n",
    "                                  max_features = 3,\n",
    "                                  min_samples_leaf = 2,\n",
    "                                  min_samples_split = 9,\n",
    "                                  splitter = \"best\").fit(X_train, y_train)\n",
    "y_pred = dt_model.predict(X_test)\n",
    "y_train_pred = dt_grid_model.predict(X_train)\n",
    "dt_tuned_acc = accuracy_score(y_test, y_pred)\n",
    "dt_tuned_recall = recall_score(y_test, y_pred)\n",
    "print(confusion_matrix(y_test, y_pred))\n",
    "print(classification_report(y_test, y_pred))\n",
    "train_val(y_train, y_train_pred, y_test, y_pred)"
   ]
  },
  {
   "cell_type": "markdown",
   "metadata": {},
   "source": [
    "### Random Forest"
   ]
  },
  {
   "cell_type": "code",
   "execution_count": 26,
   "metadata": {},
   "outputs": [
    {
     "data": {
      "application/javascript": [
       "\n",
       "        if (window._pyforest_update_imports_cell) { window._pyforest_update_imports_cell('from sklearn.ensemble import RandomForestClassifier'); }\n",
       "    "
      ],
      "text/plain": [
       "<IPython.core.display.Javascript object>"
      ]
     },
     "metadata": {},
     "output_type": "display_data"
    },
    {
     "name": "stdout",
     "output_type": "stream",
     "text": [
      "[[105  19]\n",
      " [ 25  43]]\n",
      "              precision    recall  f1-score   support\n",
      "\n",
      "           0       0.81      0.85      0.83       124\n",
      "           1       0.69      0.63      0.66        68\n",
      "\n",
      "    accuracy                           0.77       192\n",
      "   macro avg       0.75      0.74      0.74       192\n",
      "weighted avg       0.77      0.77      0.77       192\n",
      "\n"
     ]
    },
    {
     "data": {
      "text/html": [
       "<div>\n",
       "<style scoped>\n",
       "    .dataframe tbody tr th:only-of-type {\n",
       "        vertical-align: middle;\n",
       "    }\n",
       "\n",
       "    .dataframe tbody tr th {\n",
       "        vertical-align: top;\n",
       "    }\n",
       "\n",
       "    .dataframe thead th {\n",
       "        text-align: right;\n",
       "    }\n",
       "</style>\n",
       "<table border=\"1\" class=\"dataframe\">\n",
       "  <thead>\n",
       "    <tr style=\"text-align: right;\">\n",
       "      <th></th>\n",
       "      <th>train_set</th>\n",
       "      <th>test_set</th>\n",
       "    </tr>\n",
       "  </thead>\n",
       "  <tbody>\n",
       "    <tr>\n",
       "      <th>Accuracy</th>\n",
       "      <td>0.590</td>\n",
       "      <td>0.771</td>\n",
       "    </tr>\n",
       "    <tr>\n",
       "      <th>Precision</th>\n",
       "      <td>0.455</td>\n",
       "      <td>0.694</td>\n",
       "    </tr>\n",
       "    <tr>\n",
       "      <th>Recall</th>\n",
       "      <td>0.905</td>\n",
       "      <td>0.632</td>\n",
       "    </tr>\n",
       "    <tr>\n",
       "      <th>f1</th>\n",
       "      <td>0.605</td>\n",
       "      <td>0.662</td>\n",
       "    </tr>\n",
       "  </tbody>\n",
       "</table>\n",
       "</div>"
      ],
      "text/plain": [
       "           train_set  test_set\n",
       "Accuracy       0.590     0.771\n",
       "Precision      0.455     0.694\n",
       "Recall         0.905     0.632\n",
       "f1             0.605     0.662"
      ]
     },
     "execution_count": 26,
     "metadata": {},
     "output_type": "execute_result"
    }
   ],
   "source": [
    "rf_model = RandomForestClassifier(class_weight = \"balanced\", random_state=101)\n",
    "rf_model.fit(X_train, y_train)\n",
    "y_pred = rf_model.predict(X_test)\n",
    "y_pred_train = rf_model.predict(X_train)\n",
    "rf_acc = accuracy_score(y_test, y_pred)\n",
    "rf_recall = recall_score(y_test, y_pred)\n",
    "print(confusion_matrix(y_test, y_pred))\n",
    "print(classification_report(y_test, y_pred))\n",
    "train_val(y_train, y_train_pred, y_test, y_pred)"
   ]
  },
  {
   "cell_type": "code",
   "execution_count": 27,
   "metadata": {},
   "outputs": [
    {
     "data": {
      "application/javascript": [
       "\n",
       "        if (window._pyforest_update_imports_cell) { window._pyforest_update_imports_cell('from sklearn.ensemble import RandomForestClassifier'); }\n",
       "    "
      ],
      "text/plain": [
       "<IPython.core.display.Javascript object>"
      ]
     },
     "metadata": {},
     "output_type": "display_data"
    },
    {
     "name": "stdout",
     "output_type": "stream",
     "text": [
      "    fit_time  score_time  test_accuracy  test_precision  test_recall  test_f1\n",
      "1      0.178       0.016          0.724           0.625        0.500    0.556\n",
      "2      0.187       0.016          0.724           0.577        0.750    0.652\n",
      "3      0.172       0.016          0.741           0.727        0.400    0.516\n",
      "4      0.187       0.016          0.724           0.591        0.650    0.619\n",
      "5      0.172       0.030          0.759           0.667        0.600    0.632\n",
      "6      0.171       0.016          0.845           0.923        0.600    0.727\n",
      "7      0.185       0.016          0.807           0.909        0.500    0.645\n",
      "8      0.172       0.016          0.702           0.571        0.600    0.585\n",
      "9      0.187       0.016          0.737           0.647        0.550    0.595\n",
      "10     0.174       0.016          0.772           0.769        0.500    0.606\n",
      "--------------------\n",
      "test_accuracy    0.753\n",
      "test_precision   0.701\n",
      "test_recall      0.565\n",
      "test_f1          0.613\n",
      "dtype: float64\n"
     ]
    }
   ],
   "source": [
    "model = RandomForestClassifier(class_weight = \"balanced\", random_state=101)\n",
    "\n",
    "scores = cross_validate(model, X_train, y_train, scoring = [\"accuracy\", \"precision\", \"recall\", \"f1\"], cv = 10)\n",
    "df_scores = pd.DataFrame(scores, index = range(1, 11))\n",
    "print(df_scores)\n",
    "print(\"--------------------\")\n",
    "print(df_scores.mean()[2:])"
   ]
  },
  {
   "cell_type": "code",
   "execution_count": 28,
   "metadata": {},
   "outputs": [],
   "source": [
    "param_grid = {'n_estimators':[50, 100, 300],\n",
    "             'max_features':[2, 3, 4],\n",
    "             'max_depth':[3, 5, 7, 9],\n",
    "             'min_samples_split':[2, 5, 8]}"
   ]
  },
  {
   "cell_type": "code",
   "execution_count": 29,
   "metadata": {},
   "outputs": [
    {
     "data": {
      "application/javascript": [
       "\n",
       "        if (window._pyforest_update_imports_cell) { window._pyforest_update_imports_cell('from sklearn.ensemble import RandomForestClassifier'); }\n",
       "    "
      ],
      "text/plain": [
       "<IPython.core.display.Javascript object>"
      ]
     },
     "metadata": {},
     "output_type": "display_data"
    },
    {
     "name": "stdout",
     "output_type": "stream",
     "text": [
      "Fitting 5 folds for each of 108 candidates, totalling 540 fits\n"
     ]
    }
   ],
   "source": [
    "model = RandomForestClassifier(class_weight = \"balanced\", random_state=101)\n",
    "rf_grid_model = GridSearchCV(model, param_grid, scoring = \"recall\", n_jobs = -1, verbose = 2).fit(X_train, y_train)"
   ]
  },
  {
   "cell_type": "code",
   "execution_count": 30,
   "metadata": {},
   "outputs": [
    {
     "data": {
      "text/plain": [
       "{'max_depth': 3, 'max_features': 2, 'min_samples_split': 2, 'n_estimators': 50}"
      ]
     },
     "execution_count": 30,
     "metadata": {},
     "output_type": "execute_result"
    }
   ],
   "source": [
    "rf_grid_model.best_params_"
   ]
  },
  {
   "cell_type": "code",
   "execution_count": 31,
   "metadata": {},
   "outputs": [
    {
     "name": "stdout",
     "output_type": "stream",
     "text": [
      "[[86 38]\n",
      " [16 52]]\n",
      "              precision    recall  f1-score   support\n",
      "\n",
      "           0       0.84      0.69      0.76       124\n",
      "           1       0.58      0.76      0.66        68\n",
      "\n",
      "    accuracy                           0.72       192\n",
      "   macro avg       0.71      0.73      0.71       192\n",
      "weighted avg       0.75      0.72      0.72       192\n",
      "\n"
     ]
    },
    {
     "data": {
      "text/html": [
       "<div>\n",
       "<style scoped>\n",
       "    .dataframe tbody tr th:only-of-type {\n",
       "        vertical-align: middle;\n",
       "    }\n",
       "\n",
       "    .dataframe tbody tr th {\n",
       "        vertical-align: top;\n",
       "    }\n",
       "\n",
       "    .dataframe thead th {\n",
       "        text-align: right;\n",
       "    }\n",
       "</style>\n",
       "<table border=\"1\" class=\"dataframe\">\n",
       "  <thead>\n",
       "    <tr style=\"text-align: right;\">\n",
       "      <th></th>\n",
       "      <th>train_set</th>\n",
       "      <th>test_set</th>\n",
       "    </tr>\n",
       "  </thead>\n",
       "  <tbody>\n",
       "    <tr>\n",
       "      <th>Accuracy</th>\n",
       "      <td>0.797</td>\n",
       "      <td>0.719</td>\n",
       "    </tr>\n",
       "    <tr>\n",
       "      <th>Precision</th>\n",
       "      <td>0.668</td>\n",
       "      <td>0.578</td>\n",
       "    </tr>\n",
       "    <tr>\n",
       "      <th>Recall</th>\n",
       "      <td>0.825</td>\n",
       "      <td>0.765</td>\n",
       "    </tr>\n",
       "    <tr>\n",
       "      <th>f1</th>\n",
       "      <td>0.738</td>\n",
       "      <td>0.658</td>\n",
       "    </tr>\n",
       "  </tbody>\n",
       "</table>\n",
       "</div>"
      ],
      "text/plain": [
       "           train_set  test_set\n",
       "Accuracy       0.797     0.719\n",
       "Precision      0.668     0.578\n",
       "Recall         0.825     0.765\n",
       "f1             0.738     0.658"
      ]
     },
     "execution_count": 31,
     "metadata": {},
     "output_type": "execute_result"
    }
   ],
   "source": [
    "y_pred = rf_grid_model.predict(X_test)\n",
    "y_train_pred = rf_grid_model.predict(X_train)\n",
    "rf_tuned_acc = accuracy_score(y_test, y_pred)\n",
    "rf_tuned_recall = recall_score(y_test, y_pred)\n",
    "print(confusion_matrix(y_test, y_pred))\n",
    "print(classification_report(y_test, y_pred))\n",
    "train_val(y_train, y_train_pred, y_test, y_pred)"
   ]
  },
  {
   "cell_type": "code",
   "execution_count": 32,
   "metadata": {},
   "outputs": [
    {
     "data": {
      "application/javascript": [
       "\n",
       "        if (window._pyforest_update_imports_cell) { window._pyforest_update_imports_cell('from sklearn.ensemble import RandomForestClassifier'); }\n",
       "    "
      ],
      "text/plain": [
       "<IPython.core.display.Javascript object>"
      ]
     },
     "metadata": {},
     "output_type": "display_data"
    },
    {
     "name": "stdout",
     "output_type": "stream",
     "text": [
      "[[86 38]\n",
      " [16 52]]\n",
      "              precision    recall  f1-score   support\n",
      "\n",
      "           0       0.84      0.69      0.76       124\n",
      "           1       0.58      0.76      0.66        68\n",
      "\n",
      "    accuracy                           0.72       192\n",
      "   macro avg       0.71      0.73      0.71       192\n",
      "weighted avg       0.75      0.72      0.72       192\n",
      "\n"
     ]
    },
    {
     "data": {
      "text/html": [
       "<div>\n",
       "<style scoped>\n",
       "    .dataframe tbody tr th:only-of-type {\n",
       "        vertical-align: middle;\n",
       "    }\n",
       "\n",
       "    .dataframe tbody tr th {\n",
       "        vertical-align: top;\n",
       "    }\n",
       "\n",
       "    .dataframe thead th {\n",
       "        text-align: right;\n",
       "    }\n",
       "</style>\n",
       "<table border=\"1\" class=\"dataframe\">\n",
       "  <thead>\n",
       "    <tr style=\"text-align: right;\">\n",
       "      <th></th>\n",
       "      <th>train_set</th>\n",
       "      <th>test_set</th>\n",
       "    </tr>\n",
       "  </thead>\n",
       "  <tbody>\n",
       "    <tr>\n",
       "      <th>Accuracy</th>\n",
       "      <td>0.797</td>\n",
       "      <td>0.719</td>\n",
       "    </tr>\n",
       "    <tr>\n",
       "      <th>Precision</th>\n",
       "      <td>0.668</td>\n",
       "      <td>0.578</td>\n",
       "    </tr>\n",
       "    <tr>\n",
       "      <th>Recall</th>\n",
       "      <td>0.825</td>\n",
       "      <td>0.765</td>\n",
       "    </tr>\n",
       "    <tr>\n",
       "      <th>f1</th>\n",
       "      <td>0.738</td>\n",
       "      <td>0.658</td>\n",
       "    </tr>\n",
       "  </tbody>\n",
       "</table>\n",
       "</div>"
      ],
      "text/plain": [
       "           train_set  test_set\n",
       "Accuracy       0.797     0.719\n",
       "Precision      0.668     0.578\n",
       "Recall         0.825     0.765\n",
       "f1             0.738     0.658"
      ]
     },
     "execution_count": 32,
     "metadata": {},
     "output_type": "execute_result"
    }
   ],
   "source": [
    "rf_model = RandomForestClassifier(class_weight = \"balanced\", random_state=101,\n",
    "                                  max_depth = 3,\n",
    "                                  max_features = 2,\n",
    "                                  min_samples_split = 2,\n",
    "                                  n_estimators = 50).fit(X_train, y_train)\n",
    "y_pred = rf_model.predict(X_test)\n",
    "y_pred_train = rf_model.predict(X_train)\n",
    "rf_acc = accuracy_score(y_test, y_pred)\n",
    "rf_recall = recall_score(y_test, y_pred)\n",
    "print(confusion_matrix(y_test, y_pred))\n",
    "print(classification_report(y_test, y_pred))\n",
    "train_val(y_train, y_train_pred, y_test, y_pred)"
   ]
  },
  {
   "cell_type": "code",
   "execution_count": 33,
   "metadata": {},
   "outputs": [],
   "source": [
    "from sklearn.tree import plot_tree"
   ]
  },
  {
   "cell_type": "code",
   "execution_count": 34,
   "metadata": {},
   "outputs": [
    {
     "data": {
      "image/png": "[encoded data removed]",
      "text/plain": [
       "<Figure size 1800x1200 with 1 Axes>"
      ]
     },
     "metadata": {
      "needs_background": "light"
     },
     "output_type": "display_data"
    }
   ],
   "source": [
    "features = list(X.columns)\n",
    "targets = df.Outcome.astype(\"str\")\n",
    "targets = targets.unique()\n",
    "plt.figure(figsize = (12,8), dpi = 150)\n",
    "plot_tree(rf_model.estimators_[0],\n",
    "          feature_names = features,\n",
    "          class_names=targets,\n",
    "          filled = True,\n",
    "          fontsize = 8);"
   ]
  },
  {
   "cell_type": "markdown",
   "metadata": {},
   "source": [
    "### Logistic Regression"
   ]
  },
  {
   "cell_type": "code",
   "execution_count": 35,
   "metadata": {},
   "outputs": [],
   "source": [
    "from sklearn.linear_model import LogisticRegression"
   ]
  },
  {
   "cell_type": "code",
   "execution_count": 36,
   "metadata": {},
   "outputs": [
    {
     "name": "stdout",
     "output_type": "stream",
     "text": [
      "[[93 31]\n",
      " [16 52]]\n",
      "              precision    recall  f1-score   support\n",
      "\n",
      "           0       0.85      0.75      0.80       124\n",
      "           1       0.63      0.76      0.69        68\n",
      "\n",
      "    accuracy                           0.76       192\n",
      "   macro avg       0.74      0.76      0.74       192\n",
      "weighted avg       0.77      0.76      0.76       192\n",
      "\n"
     ]
    },
    {
     "data": {
      "text/html": [
       "<div>\n",
       "<style scoped>\n",
       "    .dataframe tbody tr th:only-of-type {\n",
       "        vertical-align: middle;\n",
       "    }\n",
       "\n",
       "    .dataframe tbody tr th {\n",
       "        vertical-align: top;\n",
       "    }\n",
       "\n",
       "    .dataframe thead th {\n",
       "        text-align: right;\n",
       "    }\n",
       "</style>\n",
       "<table border=\"1\" class=\"dataframe\">\n",
       "  <thead>\n",
       "    <tr style=\"text-align: right;\">\n",
       "      <th></th>\n",
       "      <th>train_set</th>\n",
       "      <th>test_set</th>\n",
       "    </tr>\n",
       "  </thead>\n",
       "  <tbody>\n",
       "    <tr>\n",
       "      <th>Accuracy</th>\n",
       "      <td>0.797</td>\n",
       "      <td>0.755</td>\n",
       "    </tr>\n",
       "    <tr>\n",
       "      <th>Precision</th>\n",
       "      <td>0.668</td>\n",
       "      <td>0.627</td>\n",
       "    </tr>\n",
       "    <tr>\n",
       "      <th>Recall</th>\n",
       "      <td>0.825</td>\n",
       "      <td>0.765</td>\n",
       "    </tr>\n",
       "    <tr>\n",
       "      <th>f1</th>\n",
       "      <td>0.738</td>\n",
       "      <td>0.689</td>\n",
       "    </tr>\n",
       "  </tbody>\n",
       "</table>\n",
       "</div>"
      ],
      "text/plain": [
       "           train_set  test_set\n",
       "Accuracy       0.797     0.755\n",
       "Precision      0.668     0.627\n",
       "Recall         0.825     0.765\n",
       "f1             0.738     0.689"
      ]
     },
     "execution_count": 36,
     "metadata": {},
     "output_type": "execute_result"
    }
   ],
   "source": [
    "log_model=LogisticRegression(class_weight = \"balanced\")\n",
    "log_model.fit(X_train_scaled, y_train)\n",
    "y_pred=log_model.predict(X_test_scaled)\n",
    "y_pred_train = log_model.predict(X_train_scaled)\n",
    "log_acc = accuracy_score(y_test, y_pred)\n",
    "log_recall = recall_score(y_test, y_pred)\n",
    "print(confusion_matrix(y_test, y_pred))\n",
    "print(classification_report(y_test, y_pred))\n",
    "train_val(y_train, y_train_pred, y_test, y_pred)"
   ]
  },
  {
   "cell_type": "code",
   "execution_count": 37,
   "metadata": {},
   "outputs": [
    {
     "name": "stdout",
     "output_type": "stream",
     "text": [
      "    fit_time  score_time  test_accuracy  test_precision  test_recall  test_f1\n",
      "1      0.036       0.005          0.690           0.538        0.700    0.609\n",
      "2      0.035       0.007          0.672           0.516        0.800    0.627\n",
      "3      0.033       0.005          0.759           0.714        0.500    0.588\n",
      "4      0.028       0.000          0.741           0.600        0.750    0.667\n",
      "5      0.031       0.014          0.741           0.600        0.750    0.667\n",
      "6      0.035       0.006          0.793           0.682        0.750    0.714\n",
      "7      0.025       0.000          0.860           0.750        0.900    0.818\n",
      "8      0.031       0.016          0.667           0.517        0.750    0.612\n",
      "9      0.031       0.000          0.772           0.667        0.700    0.683\n",
      "10     0.031       0.000          0.807           0.765        0.650    0.703\n",
      "--------------------\n",
      "test_accuracy    0.750\n",
      "test_precision   0.635\n",
      "test_recall      0.725\n",
      "test_f1          0.669\n",
      "dtype: float64\n"
     ]
    }
   ],
   "source": [
    "model = LogisticRegression(class_weight = \"balanced\")\n",
    "\n",
    "scores = cross_validate(model, X_train, y_train, scoring = [\"accuracy\", \"precision\", \"recall\", \"f1\"], cv = 10)\n",
    "df_scores = pd.DataFrame(scores, index = range(1, 11))\n",
    "print(df_scores)\n",
    "print(\"--------------------\")\n",
    "print(df_scores.mean()[2:])"
   ]
  },
  {
   "cell_type": "markdown",
   "metadata": {},
   "source": [
    "### KNN"
   ]
  },
  {
   "cell_type": "code",
   "execution_count": 38,
   "metadata": {},
   "outputs": [],
   "source": [
    "from sklearn.neighbors import KNeighborsClassifier"
   ]
  },
  {
   "cell_type": "code",
   "execution_count": 39,
   "metadata": {},
   "outputs": [],
   "source": [
    "test_error_rates = []\n",
    "\n",
    "\n",
    "for k in range(1,30):\n",
    "    knn_model = KNeighborsClassifier(n_neighbors=k)\n",
    "    knn_model.fit(X_train_scaled,y_train) \n",
    "   \n",
    "    y_pred_test = knn_model.predict(X_test_scaled)\n",
    "    \n",
    "    test_error = 1 - recall_score(y_test,y_pred_test)\n",
    "    test_error_rates.append(test_error)"
   ]
  },
  {
   "cell_type": "code",
   "execution_count": 40,
   "metadata": {},
   "outputs": [
    {
     "data": {
      "text/plain": [
       "<matplotlib.collections.LineCollection at 0x1fc28efcd90>"
      ]
     },
     "execution_count": 40,
     "metadata": {},
     "output_type": "execute_result"
    },
    {
     "data": {
      "image/png": "[encoded data removed]",
      "text/plain": [
       "<Figure size 1080x576 with 1 Axes>"
      ]
     },
     "metadata": {
      "needs_background": "light"
     },
     "output_type": "display_data"
    }
   ],
   "source": [
    "plt.figure(figsize=(15,8))\n",
    "plt.plot(range(1,30), test_error_rates, color='blue', linestyle='--', marker='o',\n",
    "         markerfacecolor='red', markersize=10)\n",
    "plt.title('Error Rate vs. K Value')\n",
    "plt.xlabel('K_values')\n",
    "plt.ylabel('Error Rate')\n",
    "plt.hlines(y=0.35, xmin = 0, xmax = 30, colors= 'r', linestyles=\"--\")\n",
    "plt.hlines(y=0.5, xmin = 0, xmax = 30, colors= 'r', linestyles=\"--\")"
   ]
  },
  {
   "cell_type": "code",
   "execution_count": 41,
   "metadata": {},
   "outputs": [
    {
     "name": "stdout",
     "output_type": "stream",
     "text": [
      "[[104  20]\n",
      " [ 24  44]]\n",
      "              precision    recall  f1-score   support\n",
      "\n",
      "           0       0.81      0.84      0.83       124\n",
      "           1       0.69      0.65      0.67        68\n",
      "\n",
      "    accuracy                           0.77       192\n",
      "   macro avg       0.75      0.74      0.75       192\n",
      "weighted avg       0.77      0.77      0.77       192\n",
      "\n"
     ]
    },
    {
     "data": {
      "text/html": [
       "<div>\n",
       "<style scoped>\n",
       "    .dataframe tbody tr th:only-of-type {\n",
       "        vertical-align: middle;\n",
       "    }\n",
       "\n",
       "    .dataframe tbody tr th {\n",
       "        vertical-align: top;\n",
       "    }\n",
       "\n",
       "    .dataframe thead th {\n",
       "        text-align: right;\n",
       "    }\n",
       "</style>\n",
       "<table border=\"1\" class=\"dataframe\">\n",
       "  <thead>\n",
       "    <tr style=\"text-align: right;\">\n",
       "      <th></th>\n",
       "      <th>train_set</th>\n",
       "      <th>test_set</th>\n",
       "    </tr>\n",
       "  </thead>\n",
       "  <tbody>\n",
       "    <tr>\n",
       "      <th>Accuracy</th>\n",
       "      <td>0.797</td>\n",
       "      <td>0.771</td>\n",
       "    </tr>\n",
       "    <tr>\n",
       "      <th>Precision</th>\n",
       "      <td>0.668</td>\n",
       "      <td>0.688</td>\n",
       "    </tr>\n",
       "    <tr>\n",
       "      <th>Recall</th>\n",
       "      <td>0.825</td>\n",
       "      <td>0.647</td>\n",
       "    </tr>\n",
       "    <tr>\n",
       "      <th>f1</th>\n",
       "      <td>0.738</td>\n",
       "      <td>0.667</td>\n",
       "    </tr>\n",
       "  </tbody>\n",
       "</table>\n",
       "</div>"
      ],
      "text/plain": [
       "           train_set  test_set\n",
       "Accuracy       0.797     0.771\n",
       "Precision      0.668     0.688\n",
       "Recall         0.825     0.647\n",
       "f1             0.738     0.667"
      ]
     },
     "execution_count": 41,
     "metadata": {},
     "output_type": "execute_result"
    }
   ],
   "source": [
    "knn_model = KNeighborsClassifier(n_neighbors = 3)\n",
    "knn_model.fit(X_train_scaled, y_train)\n",
    "y_pred = knn_model.predict(X_test_scaled)\n",
    "y_pred_train = knn_model.predict(X_train_scaled)\n",
    "knn_acc = accuracy_score(y_test, y_pred)\n",
    "knn_recall = recall_score(y_test, y_pred)\n",
    "print(confusion_matrix(y_test, y_pred))\n",
    "print(classification_report(y_test, y_pred))\n",
    "train_val(y_train, y_train_pred, y_test, y_pred)"
   ]
  },
  {
   "cell_type": "code",
   "execution_count": 42,
   "metadata": {},
   "outputs": [
    {
     "name": "stdout",
     "output_type": "stream",
     "text": [
      "    fit_time  score_time  test_accuracy  test_precision  test_recall  test_f1\n",
      "1      0.002       0.008          0.741           0.632        0.600    0.615\n",
      "2      0.002       0.008          0.621           0.458        0.550    0.500\n",
      "3      0.002       0.008          0.793           0.786        0.550    0.647\n",
      "4      0.002       0.008          0.707           0.600        0.450    0.514\n",
      "5      0.001       0.008          0.741           0.647        0.550    0.595\n",
      "6      0.002       0.008          0.707           0.579        0.550    0.564\n",
      "7      0.002       0.008          0.719           0.625        0.500    0.556\n",
      "8      0.002       0.008          0.684           0.550        0.550    0.550\n",
      "9      0.002       0.007          0.632           0.471        0.400    0.432\n",
      "10     0.001       0.009          0.737           0.632        0.600    0.615\n",
      "--------------------\n",
      "test_accuracy    0.708\n",
      "test_precision   0.598\n",
      "test_recall      0.530\n",
      "test_f1          0.559\n",
      "dtype: float64\n"
     ]
    }
   ],
   "source": [
    "model = KNeighborsClassifier(n_neighbors = 3)\n",
    "\n",
    "scores = cross_validate(model, X_train_scaled, y_train, scoring = [\"accuracy\", \"precision\", \"recall\", \"f1\"], cv = 10)\n",
    "df_scores = pd.DataFrame(scores, index = range(1, 11))\n",
    "print(df_scores)\n",
    "print(\"--------------------\")\n",
    "print(df_scores.mean()[2:])"
   ]
  },
  {
   "cell_type": "markdown",
   "metadata": {},
   "source": [
    "### SVM"
   ]
  },
  {
   "cell_type": "code",
   "execution_count": 43,
   "metadata": {},
   "outputs": [],
   "source": [
    "from sklearn.svm import SVC"
   ]
  },
  {
   "cell_type": "code",
   "execution_count": 44,
   "metadata": {},
   "outputs": [
    {
     "name": "stdout",
     "output_type": "stream",
     "text": [
      "[[90 34]\n",
      " [14 54]]\n",
      "              precision    recall  f1-score   support\n",
      "\n",
      "           0       0.87      0.73      0.79       124\n",
      "           1       0.61      0.79      0.69        68\n",
      "\n",
      "    accuracy                           0.75       192\n",
      "   macro avg       0.74      0.76      0.74       192\n",
      "weighted avg       0.78      0.75      0.76       192\n",
      "\n"
     ]
    },
    {
     "data": {
      "text/html": [
       "<div>\n",
       "<style scoped>\n",
       "    .dataframe tbody tr th:only-of-type {\n",
       "        vertical-align: middle;\n",
       "    }\n",
       "\n",
       "    .dataframe tbody tr th {\n",
       "        vertical-align: top;\n",
       "    }\n",
       "\n",
       "    .dataframe thead th {\n",
       "        text-align: right;\n",
       "    }\n",
       "</style>\n",
       "<table border=\"1\" class=\"dataframe\">\n",
       "  <thead>\n",
       "    <tr style=\"text-align: right;\">\n",
       "      <th></th>\n",
       "      <th>train_set</th>\n",
       "      <th>test_set</th>\n",
       "    </tr>\n",
       "  </thead>\n",
       "  <tbody>\n",
       "    <tr>\n",
       "      <th>Accuracy</th>\n",
       "      <td>0.797</td>\n",
       "      <td>0.750</td>\n",
       "    </tr>\n",
       "    <tr>\n",
       "      <th>Precision</th>\n",
       "      <td>0.668</td>\n",
       "      <td>0.614</td>\n",
       "    </tr>\n",
       "    <tr>\n",
       "      <th>Recall</th>\n",
       "      <td>0.825</td>\n",
       "      <td>0.794</td>\n",
       "    </tr>\n",
       "    <tr>\n",
       "      <th>f1</th>\n",
       "      <td>0.738</td>\n",
       "      <td>0.692</td>\n",
       "    </tr>\n",
       "  </tbody>\n",
       "</table>\n",
       "</div>"
      ],
      "text/plain": [
       "           train_set  test_set\n",
       "Accuracy       0.797     0.750\n",
       "Precision      0.668     0.614\n",
       "Recall         0.825     0.794\n",
       "f1             0.738     0.692"
      ]
     },
     "execution_count": 44,
     "metadata": {},
     "output_type": "execute_result"
    }
   ],
   "source": [
    "svm_model = SVC(class_weight = \"balanced\")\n",
    "svm_model.fit(X_train_scaled, y_train)\n",
    "y_pred = svm_model.predict(X_test_scaled)\n",
    "y_pred_train = svm_model.predict(X_train_scaled)\n",
    "svm_acc = accuracy_score(y_test, y_pred)\n",
    "svm_recall = recall_score(y_test, y_pred)\n",
    "print(confusion_matrix(y_test, y_pred))\n",
    "print(classification_report(y_test, y_pred))\n",
    "train_val(y_train, y_train_pred, y_test, y_pred)"
   ]
  },
  {
   "cell_type": "code",
   "execution_count": 45,
   "metadata": {},
   "outputs": [
    {
     "name": "stdout",
     "output_type": "stream",
     "text": [
      "    fit_time  score_time  test_accuracy  test_precision  test_recall  test_f1\n",
      "1      0.013       0.007          0.690           0.536        0.750    0.625\n",
      "2      0.012       0.007          0.655           0.500        0.800    0.615\n",
      "3      0.011       0.007          0.741           0.667        0.500    0.571\n",
      "4      0.012       0.007          0.741           0.593        0.800    0.681\n",
      "5      0.010       0.000          0.793           0.667        0.800    0.727\n",
      "6      0.016       0.000          0.793           0.654        0.850    0.739\n",
      "7      0.016       0.000          0.842           0.739        0.850    0.791\n",
      "8      0.016       0.012          0.702           0.548        0.850    0.667\n",
      "9      0.011       0.005          0.754           0.636        0.700    0.667\n",
      "10     0.000       0.016          0.772           0.652        0.750    0.698\n",
      "--------------------\n",
      "test_accuracy    0.748\n",
      "test_precision   0.619\n",
      "test_recall      0.765\n",
      "test_f1          0.678\n",
      "dtype: float64\n"
     ]
    }
   ],
   "source": [
    "model = SVC(class_weight = \"balanced\")\n",
    "\n",
    "scores = cross_validate(model, X_train_scaled, y_train, scoring = ['accuracy', 'precision','recall','f1'], cv = 10)\n",
    "df_scores = pd.DataFrame(scores, index = range(1, 11))\n",
    "print(df_scores)\n",
    "print(\"--------------------\")\n",
    "print(df_scores.mean()[2:])"
   ]
  },
  {
   "cell_type": "code",
   "execution_count": 46,
   "metadata": {},
   "outputs": [],
   "source": [
    "param_grid = {'C': [0.1, 1, 10, 100],\n",
    "              'gamma': [\"scale\", \"auto\", 1, 0.1, 0.01],\n",
    "              'kernel': ['rbf', 'linear', 'poly'],\n",
    "              'degree':[2,3,4]}"
   ]
  },
  {
   "cell_type": "code",
   "execution_count": 47,
   "metadata": {},
   "outputs": [
    {
     "name": "stdout",
     "output_type": "stream",
     "text": [
      "Fitting 5 folds for each of 180 candidates, totalling 900 fits\n"
     ]
    }
   ],
   "source": [
    "model = SVC(class_weight = \"balanced\")\n",
    "svm_grid_model = GridSearchCV(model, param_grid, scoring = \"f1\", n_jobs = -1, verbose = 2).fit(X_train_scaled, y_train)"
   ]
  },
  {
   "cell_type": "code",
   "execution_count": 48,
   "metadata": {},
   "outputs": [
    {
     "data": {
      "text/plain": [
       "{'C': 1, 'degree': 2, 'gamma': 0.1, 'kernel': 'rbf'}"
      ]
     },
     "execution_count": 48,
     "metadata": {},
     "output_type": "execute_result"
    }
   ],
   "source": [
    "svm_grid_model.best_params_"
   ]
  },
  {
   "cell_type": "code",
   "execution_count": 49,
   "metadata": {},
   "outputs": [
    {
     "name": "stdout",
     "output_type": "stream",
     "text": [
      "[[88 36]\n",
      " [14 54]]\n",
      "              precision    recall  f1-score   support\n",
      "\n",
      "           0       0.86      0.71      0.78       124\n",
      "           1       0.60      0.79      0.68        68\n",
      "\n",
      "    accuracy                           0.74       192\n",
      "   macro avg       0.73      0.75      0.73       192\n",
      "weighted avg       0.77      0.74      0.75       192\n",
      "\n"
     ]
    },
    {
     "data": {
      "text/html": [
       "<div>\n",
       "<style scoped>\n",
       "    .dataframe tbody tr th:only-of-type {\n",
       "        vertical-align: middle;\n",
       "    }\n",
       "\n",
       "    .dataframe tbody tr th {\n",
       "        vertical-align: top;\n",
       "    }\n",
       "\n",
       "    .dataframe thead th {\n",
       "        text-align: right;\n",
       "    }\n",
       "</style>\n",
       "<table border=\"1\" class=\"dataframe\">\n",
       "  <thead>\n",
       "    <tr style=\"text-align: right;\">\n",
       "      <th></th>\n",
       "      <th>train_set</th>\n",
       "      <th>test_set</th>\n",
       "    </tr>\n",
       "  </thead>\n",
       "  <tbody>\n",
       "    <tr>\n",
       "      <th>Accuracy</th>\n",
       "      <td>0.797</td>\n",
       "      <td>0.740</td>\n",
       "    </tr>\n",
       "    <tr>\n",
       "      <th>Precision</th>\n",
       "      <td>0.668</td>\n",
       "      <td>0.600</td>\n",
       "    </tr>\n",
       "    <tr>\n",
       "      <th>Recall</th>\n",
       "      <td>0.825</td>\n",
       "      <td>0.794</td>\n",
       "    </tr>\n",
       "    <tr>\n",
       "      <th>f1</th>\n",
       "      <td>0.738</td>\n",
       "      <td>0.684</td>\n",
       "    </tr>\n",
       "  </tbody>\n",
       "</table>\n",
       "</div>"
      ],
      "text/plain": [
       "           train_set  test_set\n",
       "Accuracy       0.797     0.740\n",
       "Precision      0.668     0.600\n",
       "Recall         0.825     0.794\n",
       "f1             0.738     0.684"
      ]
     },
     "execution_count": 49,
     "metadata": {},
     "output_type": "execute_result"
    }
   ],
   "source": [
    "y_pred = svm_grid_model.predict(X_test_scaled)\n",
    "y_pred_train = svm_grid_model.predict(X_train_scaled)\n",
    "svm_tuned_acc = accuracy_score(y_test, y_pred)\n",
    "svm_tuned_recall = recall_score(y_test, y_pred)\n",
    "print(confusion_matrix(y_test, y_pred))\n",
    "print(classification_report(y_test, y_pred))\n",
    "train_val(y_train, y_train_pred, y_test, y_pred)"
   ]
  },
  {
   "cell_type": "code",
   "execution_count": 50,
   "metadata": {},
   "outputs": [
    {
     "name": "stdout",
     "output_type": "stream",
     "text": [
      "[[88 36]\n",
      " [14 54]]\n",
      "              precision    recall  f1-score   support\n",
      "\n",
      "           0       0.86      0.71      0.78       124\n",
      "           1       0.60      0.79      0.68        68\n",
      "\n",
      "    accuracy                           0.74       192\n",
      "   macro avg       0.73      0.75      0.73       192\n",
      "weighted avg       0.77      0.74      0.75       192\n",
      "\n"
     ]
    },
    {
     "data": {
      "text/html": [
       "<div>\n",
       "<style scoped>\n",
       "    .dataframe tbody tr th:only-of-type {\n",
       "        vertical-align: middle;\n",
       "    }\n",
       "\n",
       "    .dataframe tbody tr th {\n",
       "        vertical-align: top;\n",
       "    }\n",
       "\n",
       "    .dataframe thead th {\n",
       "        text-align: right;\n",
       "    }\n",
       "</style>\n",
       "<table border=\"1\" class=\"dataframe\">\n",
       "  <thead>\n",
       "    <tr style=\"text-align: right;\">\n",
       "      <th></th>\n",
       "      <th>train_set</th>\n",
       "      <th>test_set</th>\n",
       "    </tr>\n",
       "  </thead>\n",
       "  <tbody>\n",
       "    <tr>\n",
       "      <th>Accuracy</th>\n",
       "      <td>0.797</td>\n",
       "      <td>0.740</td>\n",
       "    </tr>\n",
       "    <tr>\n",
       "      <th>Precision</th>\n",
       "      <td>0.668</td>\n",
       "      <td>0.600</td>\n",
       "    </tr>\n",
       "    <tr>\n",
       "      <th>Recall</th>\n",
       "      <td>0.825</td>\n",
       "      <td>0.794</td>\n",
       "    </tr>\n",
       "    <tr>\n",
       "      <th>f1</th>\n",
       "      <td>0.738</td>\n",
       "      <td>0.684</td>\n",
       "    </tr>\n",
       "  </tbody>\n",
       "</table>\n",
       "</div>"
      ],
      "text/plain": [
       "           train_set  test_set\n",
       "Accuracy       0.797     0.740\n",
       "Precision      0.668     0.600\n",
       "Recall         0.825     0.794\n",
       "f1             0.738     0.684"
      ]
     },
     "execution_count": 50,
     "metadata": {},
     "output_type": "execute_result"
    }
   ],
   "source": [
    "svm_model = SVC(class_weight = \"balanced\",\n",
    "                C = 1,\n",
    "                gamma = 0.1,\n",
    "                kernel = \"rbf\",\n",
    "                degree = 2).fit(X_train_scaled, y_train)\n",
    "y_pred = svm_model.predict(X_test_scaled)\n",
    "y_pred_train = svm_model.predict(X_train_scaled)\n",
    "svm_tuned_acc = accuracy_score(y_test, y_pred)\n",
    "svm_tuned_recall = recall_score(y_test, y_pred)\n",
    "print(confusion_matrix(y_test, y_pred))\n",
    "print(classification_report(y_test, y_pred))\n",
    "train_val(y_train, y_train_pred, y_test, y_pred)"
   ]
  },
  {
   "cell_type": "markdown",
   "metadata": {},
   "source": [
    "## Model Comparing"
   ]
  },
  {
   "cell_type": "code",
   "execution_count": 51,
   "metadata": {},
   "outputs": [
    {
     "data": {
      "image/png": "[encoded data removed]",
      "text/plain": [
       "<Figure size 1008x720 with 2 Axes>"
      ]
     },
     "metadata": {
      "needs_background": "light"
     },
     "output_type": "display_data"
    }
   ],
   "source": [
    "compare = pd.DataFrame({\"Model\": [\"Logistic Regression\", \"KNN\", \"SVM\", \"SVM Tuned\", \"DT\", \"DT Tuned\", \"RF\", \"RF Tuned\"],\n",
    "                        \"Accuracy\": [log_acc, knn_acc, svm_acc, svm_tuned_acc, dt_acc, dt_tuned_acc, rf_acc, rf_tuned_acc],\n",
    "                        \"Recall\": [log_recall, knn_recall, svm_recall,  svm_tuned_recall, dt_recall, dt_tuned_recall, rf_recall, rf_tuned_recall]})\n",
    "\n",
    "def labels(ax):\n",
    "    for p in ax.patches:\n",
    "        width = p.get_width()                        # get bar length\n",
    "        ax.text(width,                               # set the text at 1 unit right of the bar\n",
    "                p.get_y() + p.get_height() / 2,      # get Y coordinate + X coordinate / 2\n",
    "                '{:1.2f}'.format(width),             # set variable to display, 2 decimals\n",
    "                ha = 'left',                         # horizontal alignment\n",
    "                va = 'center')                       # vertical alignment\n",
    "    \n",
    "plt.figure(figsize=(14,10))\n",
    "plt.subplot(211)\n",
    "compare = compare.sort_values(by=\"Accuracy\", ascending=False)\n",
    "ax=sns.barplot(x=\"Accuracy\", y=\"Model\", data=compare, palette=\"Blues_d\")\n",
    "labels(ax)\n",
    "\n",
    "plt.subplot(212)\n",
    "compare = compare.sort_values(by=\"Recall\", ascending=False)\n",
    "ax=sns.barplot(x=\"Recall\", y=\"Model\", data=compare, palette=\"Blues_d\")\n",
    "labels(ax)\n",
    "plt.show()"
   ]
  }
 ],
 "metadata": {
  "anaconda-cloud": {},
  "kernelspec": {
   "display_name": "Python 3",
   "language": "python",
   "name": "python3"
  },
  "language_info": {
   "codemirror_mode": {
    "name": "ipython",
    "version": 3
   },
   "file_extension": ".py",
   "mimetype": "text/x-python",
   "name": "python",
   "nbconvert_exporter": "python",
   "pygments_lexer": "ipython3",
   "version": "3.8.8"
  }
 },
 "nbformat": 4,
 "nbformat_minor": 4
}
